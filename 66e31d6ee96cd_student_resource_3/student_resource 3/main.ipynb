{
 "cells": [
  {
   "cell_type": "code",
   "execution_count": 1,
   "metadata": {},
   "outputs": [],
   "source": [
    "import torch\n",
    "import torchvision.transforms as transforms\n",
    "import torch.nn as nn\n",
    "import torch.optim as optim\n",
    "from torchvision.models.detection import fasterrcnn_resnet50_fpn\n",
    "from PIL import Image\n",
    "import cv2\n",
    "import pytesseract\n"
   ]
  },
  {
   "cell_type": "code",
   "execution_count": 5,
   "metadata": {},
   "outputs": [],
   "source": [
    "from torchvision.datasets.vision import VisionDataset\n",
    "import requests\n",
    "from PIL import Image\n",
    "import torch\n",
    "import pandas as pd\n",
    "from io import BytesIO\n",
    "\n",
    "class ProductDataset(VisionDataset):\n",
    "    def __init__(self, csv_file, transforms=None):\n",
    "        \"\"\"\n",
    "        Args:\n",
    "            csv_file (str): Path to the CSV file containing image links, entity names, values, etc.\n",
    "            transforms (callable, optional): Optional transform to be applied on a sample.\n",
    "        \"\"\"\n",
    "        super(ProductDataset, self).__init__(root=None, transforms=transforms)\n",
    "        self.data = pd.read_csv(csv_file)\n",
    "        self.transforms = transforms\n",
    "\n",
    "    def download_image(self, url):\n",
    "        try:\n",
    "            response = requests.get(url)\n",
    "            if response.status_code == 200:\n",
    "                img = Image.open(BytesIO(response.content)).convert(\"RGB\")\n",
    "                return img\n",
    "            else:\n",
    "                print(f\"Failed to download image: {url}\")\n",
    "                return None\n",
    "        except Exception as e:\n",
    "            print(f\"Error downloading image: {e}\")\n",
    "            return None\n",
    "\n",
    "    def __getitem__(self, idx):\n",
    "        # Access the row of the dataset\n",
    "        row = self.data.iloc[idx]\n",
    "        image_url = row['image_link']\n",
    "        entity_name = row['entity_name']\n",
    "        entity_value = row['entity_value']\n",
    "        group_id = row['group_id']\n",
    "\n",
    "        # Download the image\n",
    "        img = self.download_image(image_url)\n",
    "        if img is None:\n",
    "            return None, None\n",
    "\n",
    "        # Create a dummy target (adjust as needed for your use case)\n",
    "        # Assuming you want to detect entities as boxes (which could be handled by object detection)\n",
    "        target = {\n",
    "            \"entity_name\": entity_name,\n",
    "            \"entity_value\": entity_value,\n",
    "            \"group_id\": group_id\n",
    "        }\n",
    "\n",
    "        if self.transforms is not None:\n",
    "            img = self.transforms(img)\n",
    "\n",
    "        return img, target\n",
    "\n",
    "    def __len__(self):\n",
    "        return len(self.data)\n"
   ]
  },
  {
   "cell_type": "code",
   "execution_count": 6,
   "metadata": {},
   "outputs": [
    {
     "name": "stderr",
     "output_type": "stream",
     "text": [
      "c:\\Users\\abhis\\AppData\\Local\\Programs\\Python\\Python311\\Lib\\site-packages\\torchvision\\models\\_utils.py:208: UserWarning: The parameter 'pretrained' is deprecated since 0.13 and may be removed in the future, please use 'weights' instead.\n",
      "  warnings.warn(\n",
      "c:\\Users\\abhis\\AppData\\Local\\Programs\\Python\\Python311\\Lib\\site-packages\\torchvision\\models\\_utils.py:223: UserWarning: Arguments other than a weight enum or `None` for 'weights' are deprecated since 0.13 and may be removed in the future. The current behavior is equivalent to passing `weights=FasterRCNN_ResNet50_FPN_Weights.COCO_V1`. You can also use `weights=FasterRCNN_ResNet50_FPN_Weights.DEFAULT` to get the most up-to-date weights.\n",
      "  warnings.warn(msg)\n",
      "Downloading: \"https://download.pytorch.org/models/fasterrcnn_resnet50_fpn_coco-258fb6c6.pth\" to C:\\Users\\abhis/.cache\\torch\\hub\\checkpoints\\fasterrcnn_resnet50_fpn_coco-258fb6c6.pth\n",
      "100.0%\n"
     ]
    },
    {
     "ename": "NameError",
     "evalue": "name 'torchvision' is not defined",
     "output_type": "error",
     "traceback": [
      "\u001b[1;31m---------------------------------------------------------------------------\u001b[0m",
      "\u001b[1;31mNameError\u001b[0m                                 Traceback (most recent call last)",
      "Cell \u001b[1;32mIn[6], line 7\u001b[0m\n\u001b[0;32m      5\u001b[0m num_classes \u001b[38;5;241m=\u001b[39m \u001b[38;5;241m2\u001b[39m  \u001b[38;5;66;03m# background and entity (like weight, volume, etc.)\u001b[39;00m\n\u001b[0;32m      6\u001b[0m in_features \u001b[38;5;241m=\u001b[39m model\u001b[38;5;241m.\u001b[39mroi_heads\u001b[38;5;241m.\u001b[39mbox_predictor\u001b[38;5;241m.\u001b[39mcls_score\u001b[38;5;241m.\u001b[39min_features\n\u001b[1;32m----> 7\u001b[0m model\u001b[38;5;241m.\u001b[39mroi_heads\u001b[38;5;241m.\u001b[39mbox_predictor \u001b[38;5;241m=\u001b[39m \u001b[43mtorchvision\u001b[49m\u001b[38;5;241m.\u001b[39mmodels\u001b[38;5;241m.\u001b[39mdetection\u001b[38;5;241m.\u001b[39mfaster_rcnn\u001b[38;5;241m.\u001b[39mFastRCNNPredictor(in_features, num_classes)\n",
      "\u001b[1;31mNameError\u001b[0m: name 'torchvision' is not defined"
     ]
    }
   ],
   "source": [
    "# Load a pre-trained Faster R-CNN model and modify it for our use case\n",
    "model = fasterrcnn_resnet50_fpn(pretrained=True)\n",
    "\n",
    "# Replace the classifier with a new one (assuming we have N classes)\n",
    "num_classes = 2  # background and entity (like weight, volume, etc.)\n",
    "in_features = model.roi_heads.box_predictor.cls_score.in_features\n",
    "model.roi_heads.box_predictor = torchvision.models.detection.faster_rcnn.FastRCNNPredictor(in_features, num_classes)\n"
   ]
  },
  {
   "cell_type": "code",
   "execution_count": 4,
   "metadata": {},
   "outputs": [
    {
     "name": "stdout",
     "output_type": "stream",
     "text": [
      "                                          image_link  group_id  entity_name  \\\n",
      "0  https://m.media-amazon.com/images/I/61I9XdN6OF...    748919  item_weight   \n",
      "1  https://m.media-amazon.com/images/I/71gSRbyXmo...    916768  item_volume   \n",
      "2  https://m.media-amazon.com/images/I/61BZ4zrjZX...    459516  item_weight   \n",
      "3  https://m.media-amazon.com/images/I/612mrlqiI4...    459516  item_weight   \n",
      "4  https://m.media-amazon.com/images/I/617Tl40LOX...    731432  item_weight   \n",
      "\n",
      "     entity_value  \n",
      "0      500.0 gram  \n",
      "1         1.0 cup  \n",
      "2      0.709 gram  \n",
      "3      0.709 gram  \n",
      "4  1400 milligram  \n"
     ]
    }
   ],
   "source": [
    "import pandas as pd\n",
    "\n",
    "# Load the dataset\n",
    "df = pd.read_csv('dataset/train.csv')\n",
    "\n",
    "# Display the first few rows\n",
    "print(df.head())\n"
   ]
  },
  {
   "cell_type": "code",
   "execution_count": null,
   "metadata": {},
   "outputs": [],
   "source": [
    "import requests\n",
    "from PIL import Image\n",
    "from io import BytesIO\n",
    "\n",
    "def download_image(image_url):\n",
    "    try:\n",
    "        response = requests.get(image_url)\n",
    "        if response.status_code == 200:\n",
    "            # Convert the downloaded content into an image\n",
    "            img = Image.open(BytesIO(response.content))\n",
    "            return img\n",
    "        else:\n",
    "            print(f\"Failed to retrieve image from {image_url}\")\n",
    "            return None\n",
    "    except Exception as e:\n",
    "        print(f\"Error downloading image: {e}\")\n",
    "        return None\n",
    "\n",
    "# Example usage: download an image from the first row\n",
    "image_url = df.iloc[0]['image_link']\n",
    "img = download_image(image_url)\n",
    "\n",
    "# Display the image (optional)\n",
    "if img:\n",
    "    img.show()\n"
   ]
  },
  {
   "cell_type": "code",
   "execution_count": null,
   "metadata": {},
   "outputs": [],
   "source": [
    "images = []\n",
    "for index, row in df.iterrows():\n",
    "    image_url = row['image_link']\n",
    "    img = download_image(image_url)\n",
    "    if img:\n",
    "        images.append(img)\n",
    "    else:\n",
    "        print(f\"Could not download image for row {index}\")\n",
    "\n",
    "# Now `images` contains all the downloaded images\n"
   ]
  },
  {
   "cell_type": "code",
   "execution_count": null,
   "metadata": {},
   "outputs": [],
   "source": [
    "def process_images_and_extract_entities(df):\n",
    "    for index, row in df.iterrows():\n",
    "        image_url = row['image_link']\n",
    "        entity_name = row['entity_name']\n",
    "        entity_value = row['entity_value']\n",
    "\n",
    "        img = download_image(image_url)\n",
    "        if img:\n",
    "            # Apply OCR and entity extraction logic\n",
    "            extracted_entities = extract_entity_values_from_image(img)\n",
    "            print(f\"Extracted entities for image {index}: {extracted_entities}\")\n",
    "        else:\n",
    "            print(f\"Image {index} could not be processed.\")\n"
   ]
  }
 ],
 "metadata": {
  "kernelspec": {
   "display_name": "Python 3",
   "language": "python",
   "name": "python3"
  },
  "language_info": {
   "codemirror_mode": {
    "name": "ipython",
    "version": 3
   },
   "file_extension": ".py",
   "mimetype": "text/x-python",
   "name": "python",
   "nbconvert_exporter": "python",
   "pygments_lexer": "ipython3",
   "version": "3.11.1"
  }
 },
 "nbformat": 4,
 "nbformat_minor": 2
}
